{
 "cells": [
  {
   "cell_type": "markdown",
   "metadata": {},
   "source": [
    "# Setup\n",
    "\n",
    "- Download Spark 2.2, unpack to /opt/spark (or anywhere)\n",
    "- Set SPARK_HOME var to /opt/spark (or where it was unpacked to)\n",
    "- Download BigDL 0.7, unpack anywhere\n",
    "- Set BIGDL_HOME var to unpacked BigDL directory\n",
    "- do `pip install bigdl==0.7` somewhere\n",
    "- download https://gist.github.com/lukovnikov/461d1165ea04317d2be6b66995ffa73c\n",
    "- start jupyter using the script (must be marked as executable)"
   ]
  },
  {
   "cell_type": "code",
   "execution_count": 1,
   "metadata": {},
   "outputs": [],
   "source": [
    "import pyspark\n",
    "from pyspark import SparkContext\n",
    "import numpy as np\n",
    "import re\n",
    "import struct\n",
    "import gzip\n",
    "import matplotlib as mpl\n",
    "from matplotlib import pyplot as plt\n",
    "import time\n",
    "\n",
    "from bigdl.util.common import *"
   ]
  },
  {
   "cell_type": "code",
   "execution_count": 2,
   "metadata": {},
   "outputs": [],
   "source": [
    "plt.rcParams['figure.figsize'] = [16, 8]"
   ]
  },
  {
   "cell_type": "code",
   "execution_count": 3,
   "metadata": {},
   "outputs": [],
   "source": [
    "init_engine()"
   ]
  },
  {
   "cell_type": "code",
   "execution_count": 4,
   "metadata": {},
   "outputs": [
    {
     "data": {
      "text/plain": [
       "'2.2.3'"
      ]
     },
     "execution_count": 4,
     "metadata": {},
     "output_type": "execute_result"
    }
   ],
   "source": [
    "pyspark.__version__"
   ]
  },
  {
   "cell_type": "code",
   "execution_count": 5,
   "metadata": {},
   "outputs": [],
   "source": [
    "from bigdl.nn.layer import *\n",
    "from bigdl.nn.criterion import *\n",
    "from bigdl.optim.optimizer import *\n",
    "from bigdl.util.common import *\n",
    "from bigdl.util.common import Sample\n",
    "from bigdl.dataset.transformer import *"
   ]
  },
  {
   "cell_type": "markdown",
   "metadata": {},
   "source": [
    "# MNIST classification with logistic regression"
   ]
  },
  {
   "cell_type": "markdown",
   "metadata": {},
   "source": [
    "## Loading data"
   ]
  },
  {
   "cell_type": "code",
   "execution_count": 47,
   "metadata": {},
   "outputs": [
    {
     "name": "stderr",
     "output_type": "stream",
     "text": [
      "/home/denis/conda/envs/spark/lib/python3.6/site-packages/ipykernel_launcher.py:6: DeprecationWarning: The binary mode of fromstring is deprecated, as it behaves surprisingly on unicode inputs. Use frombuffer instead\n",
      "  \n"
     ]
    },
    {
     "name": "stdout",
     "output_type": "stream",
     "text": [
      "60000\n"
     ]
    }
   ],
   "source": [
    "def load_mnist(p=\"mnist/\"):\n",
    "    def read_idx(filename):      # loads mnist into numpy array\n",
    "        with gzip.open(filename) as f:\n",
    "            zero, data_type, dims = struct.unpack('>HBB', f.read(4))\n",
    "            shape = tuple(struct.unpack('>I', f.read(4))[0] for d in range(dims))\n",
    "            return np.fromstring(f.read(), dtype=np.uint8).reshape(shape)\n",
    "    train_data = read_idx(p+\"train-images-idx3-ubyte.gz\")\n",
    "    train_labels = read_idx(p+\"train-labels-idx1-ubyte.gz\")\n",
    "    test_data = read_idx(p+\"t10k-images-idx3-ubyte.gz\")\n",
    "    test_labels = read_idx(p+\"t10k-labels-idx1-ubyte.gz\")\n",
    "    \n",
    "    train_mean, train_std = np.mean(train_data), np.std(train_data)\n",
    "    #train_data = train_data[:200]\n",
    "    #train_labels = train_labels[:200]\n",
    "    train_imgs, train_lbls = sc.parallelize(train_data), sc.parallelize(train_labels)\n",
    "    test_imgs, test_lbls = sc.parallelize(test_data), sc.parallelize(test_labels)\n",
    "    train_rdd = train_imgs.zip(train_lbls).map(lambda x: \n",
    "                                               Sample.from_ndarray((x[0] - train_mean)/train_std, x[1]+1))\n",
    "    test_rdd= test_imgs.zip(test_lbls).map(lambda x: \n",
    "                                               Sample.from_ndarray((x[0] - train_mean)/train_std, x[1]+1))\n",
    "    return train_rdd, test_rdd\n",
    "\n",
    "mnist_train_rdd, mnist_test_rdd = load_mnist()\n",
    "print(mnist_train_rdd.count())"
   ]
  },
  {
   "cell_type": "markdown",
   "metadata": {},
   "source": [
    "### Show data sample"
   ]
  },
  {
   "cell_type": "code",
   "execution_count": 48,
   "metadata": {},
   "outputs": [
    {
     "name": "stdout",
     "output_type": "stream",
     "text": [
      "[5.0, 0.0, 4.0, 1.0, 9.0, 2.0, 1.0, 3.0]\n"
     ]
    },
    {
     "data": {
      "image/png": "[encoded data removed]",
      "text/plain": [
       "<Figure size 1152x576 with 1 Axes>"
      ]
     },
     "metadata": {
      "needs_background": "light"
     },
     "output_type": "display_data"
    }
   ],
   "source": [
    "selection = mnist_train_rdd.take(8)\n",
    "plt.imshow(np.column_stack([np.array(s.features[0].to_ndarray()).reshape(28,28) \n",
    "                            for s in selection]),cmap='gray')\n",
    "#plt.axis('off')\n",
    "print([float(s.label.to_ndarray()) - 1 for s in selection])"
   ]
  },
  {
   "cell_type": "markdown",
   "metadata": {},
   "source": [
    "## Hyperparams"
   ]
  },
  {
   "cell_type": "code",
   "execution_count": 49,
   "metadata": {},
   "outputs": [],
   "source": [
    "# Parameters\n",
    "learning_rate = 0.5\n",
    "training_epochs = 10\n",
    "batch_size = 2048\n",
    "\n",
    "# Network Parameters\n",
    "n_input = 784 # MNIST data input (img shape: 28*28)\n",
    "n_classes = 10 # MNIST total classes (0-9 digits)"
   ]
  },
  {
   "cell_type": "markdown",
   "metadata": {},
   "source": [
    "## Model"
   ]
  },
  {
   "cell_type": "markdown",
   "metadata": {},
   "source": [
    "TODO:\n",
    "- define the LeNet-5 model: https://engmrk.com/lenet-5-a-classic-cnn-architecture/\n",
    "    - (tip: don't forget to add a reshape layer for input)"
   ]
  },
  {
   "cell_type": "code",
   "execution_count": null,
   "metadata": {},
   "outputs": [],
   "source": []
  },
  {
   "cell_type": "markdown",
   "metadata": {},
   "source": [
    "## Optimizer"
   ]
  },
  {
   "cell_type": "markdown",
   "metadata": {},
   "source": [
    "TODO:\n",
    "- define optimizer with the model, training data and other settings defined above (Hyperparams)"
   ]
  },
  {
   "cell_type": "code",
   "execution_count": null,
   "metadata": {},
   "outputs": [],
   "source": []
  },
  {
   "cell_type": "markdown",
   "metadata": {},
   "source": [
    "TODO:\n",
    "- add validation to the optimizer, such that the loss and accuracy are computed over the test set at every epoch"
   ]
  },
  {
   "cell_type": "code",
   "execution_count": null,
   "metadata": {},
   "outputs": [],
   "source": []
  },
  {
   "cell_type": "markdown",
   "metadata": {},
   "source": [
    "TODO:\n",
    "- create train and validation summaries\n",
    "    - (note: don't forget to assign a unique name every time, otherwise, logs get appended to previous training run)"
   ]
  },
  {
   "cell_type": "code",
   "execution_count": null,
   "metadata": {},
   "outputs": [],
   "source": []
  },
  {
   "cell_type": "markdown",
   "metadata": {},
   "source": [
    "TODO:\n",
    "- train the model"
   ]
  },
  {
   "cell_type": "code",
   "execution_count": null,
   "metadata": {},
   "outputs": [],
   "source": []
  },
  {
   "cell_type": "markdown",
   "metadata": {},
   "source": [
    "## Evaluate trained model on test data"
   ]
  },
  {
   "cell_type": "markdown",
   "metadata": {
    "scrolled": false
   },
   "source": [
    "TODO:\n",
    "- compute classification accuracy as well as the loss over both test and train datasets\n",
    "    - (tip: check \"metrics\" in \"API Guide\")"
   ]
  },
  {
   "cell_type": "code",
   "execution_count": null,
   "metadata": {},
   "outputs": [],
   "source": []
  },
  {
   "cell_type": "code",
   "execution_count": null,
   "metadata": {},
   "outputs": [],
   "source": []
  },
  {
   "cell_type": "markdown",
   "metadata": {},
   "source": [
    "## Visualize training"
   ]
  },
  {
   "cell_type": "markdown",
   "metadata": {},
   "source": [
    "TODO:\n",
    "- plot the validation loss together with the validation accuracy and training loss\n",
    "    - (tip: read_scalar)"
   ]
  },
  {
   "cell_type": "code",
   "execution_count": null,
   "metadata": {
    "scrolled": false
   },
   "outputs": [],
   "source": []
  },
  {
   "cell_type": "code",
   "execution_count": null,
   "metadata": {},
   "outputs": [],
   "source": []
  },
  {
   "cell_type": "code",
   "execution_count": null,
   "metadata": {},
   "outputs": [],
   "source": []
  },
  {
   "cell_type": "code",
   "execution_count": null,
   "metadata": {},
   "outputs": [],
   "source": []
  }
 ],
 "metadata": {
  "kernelspec": {
   "display_name": "Python 3",
   "language": "python",
   "name": "python3"
  },
  "language_info": {
   "codemirror_mode": {
    "name": "ipython",
    "version": 3
   },
   "file_extension": ".py",
   "mimetype": "text/x-python",
   "name": "python",
   "nbconvert_exporter": "python",
   "pygments_lexer": "ipython3",
   "version": "3.6.8"
  }
 },
 "nbformat": 4,
 "nbformat_minor": 2
}
