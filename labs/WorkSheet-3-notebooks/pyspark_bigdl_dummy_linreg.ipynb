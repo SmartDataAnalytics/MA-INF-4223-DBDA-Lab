{
 "cells": [
  {
   "cell_type": "markdown",
   "metadata": {},
   "source": [
    "# Setup\n",
    "\n",
    "- Download Spark 2.2, unpack to /opt/spark (or anywhere)\n",
    "- Set SPARK_HOME var to /opt/spark (or where it was unpacked to)\n",
    "- Download BigDL 0.7, unpack anywhere\n",
    "- Set BIGDL_HOME var to unpacked BigDL directory\n",
    "- do `pip install bigdl==0.7` somewhere\n",
    "- download https://gist.github.com/lukovnikov/461d1165ea04317d2be6b66995ffa73c\n",
    "- start jupyter using the script (must be marked as executable)"
   ]
  },
  {
   "cell_type": "markdown",
   "metadata": {},
   "source": [
    "### Import things: pyspark, matplotlib, bigdl, initialize engine, check version"
   ]
  },
  {
   "cell_type": "code",
   "execution_count": 5,
   "metadata": {},
   "outputs": [],
   "source": [
    "import pyspark\n",
    "from pyspark import SparkContext\n",
    "import numpy as np\n",
    "import re\n",
    "import matplotlib as mpl\n",
    "\n",
    "from matplotlib import pyplot as plt\n",
    "plt.rcParams['figure.figsize'] = [15, 7]\n",
    "\n",
    "from bigdl.util.common import *\n",
    "from bigdl.nn.layer import *\n",
    "from bigdl.nn.criterion import *\n",
    "from bigdl.optim.optimizer import *\n",
    "from bigdl.util.common import Sample\n",
    "from bigdl.dataset.transformer import *"
   ]
  },
  {
   "cell_type": "code",
   "execution_count": 3,
   "metadata": {},
   "outputs": [],
   "source": [
    "init_engine()"
   ]
  },
  {
   "cell_type": "code",
   "execution_count": 4,
   "metadata": {},
   "outputs": [
    {
     "data": {
      "text/plain": [
       "'2.2.3'"
      ]
     },
     "execution_count": 4,
     "metadata": {},
     "output_type": "execute_result"
    }
   ],
   "source": [
    "pyspark.__version__"
   ]
  },
  {
   "cell_type": "markdown",
   "metadata": {},
   "source": [
    "# Linear regression"
   ]
  },
  {
   "cell_type": "markdown",
   "metadata": {},
   "source": [
    "## Create random data:\n",
    "- create a dataset of 100 random datapoints such that $y = a * x + b$, where $a$ and $b$ are some chosen coefficients\n",
    "     - (tip: `np.random.random`)\n",
    "- add some noise to the output $y$ to create $\\hat{y}$.\n",
    "     - (tip: `np.random.normal`)\n",
    "- plot $y$ and $\\hat{y}$ \n",
    "     - (tip: `plt.scatter`)\n",
    "- create a dataset of 50 random datapoints $x_{test}$"
   ]
  },
  {
   "cell_type": "code",
   "execution_count": 16,
   "metadata": {},
   "outputs": [],
   "source": [
    "NUMDATA = 100\n",
    "NOISE = 0.3\n",
    "INDIM=1\n",
    "all_x = np.random.random((NUMDATA, 1))\n",
    "def data_f(_x, a=2, b=7, noise=NOISE):\n",
    "    ret = _x * a + b\n",
    "    return ret + np.random.normal(0, +noise/2, (_x.shape)), ret\n",
    "\n",
    "all_y, true_y = data_f(all_x)\n",
    "test_x = np.random.random((50, 1))\n",
    "test_y, true_test_y = data_f(test_x)"
   ]
  },
  {
   "cell_type": "code",
   "execution_count": 17,
   "metadata": {
    "scrolled": false
   },
   "outputs": [
    {
     "data": {
      "text/plain": [
       "<matplotlib.collections.PathCollection at 0x7f871e7b65c0>"
      ]
     },
     "execution_count": 17,
     "metadata": {},
     "output_type": "execute_result"
    },
    {
     "data": {
      "image/png": "[encoded data removed]",
      "text/plain": [
       "<Figure size 1080x504 with 1 Axes>"
      ]
     },
     "metadata": {
      "needs_background": "light"
     },
     "output_type": "display_data"
    }
   ],
   "source": [
    "plt.scatter(all_x, all_y, 7, \"g\")\n",
    "plt.scatter(all_x, true_y, 7, \"b\")"
   ]
  },
  {
   "cell_type": "markdown",
   "metadata": {},
   "source": [
    "### Load data into RDD[Sample]:\n",
    "(tip: `Sample.from_ndarray`)"
   ]
  },
  {
   "cell_type": "code",
   "execution_count": 18,
   "metadata": {},
   "outputs": [
    {
     "data": {
      "text/plain": [
       "[Sample: features: [JTensor: storage: [0.43588185], shape: [1], float], labels: [JTensor: storage: [7.675162], shape: [1], float],\n",
       " Sample: features: [JTensor: storage: [0.10785878], shape: [1], float], labels: [JTensor: storage: [7.1614184], shape: [1], float],\n",
       " Sample: features: [JTensor: storage: [0.1331063], shape: [1], float], labels: [JTensor: storage: [7.325616], shape: [1], float],\n",
       " Sample: features: [JTensor: storage: [0.10008866], shape: [1], float], labels: [JTensor: storage: [7.332055], shape: [1], float],\n",
       " Sample: features: [JTensor: storage: [0.90709627], shape: [1], float], labels: [JTensor: storage: [8.86858], shape: [1], float]]"
      ]
     },
     "execution_count": 18,
     "metadata": {},
     "output_type": "execute_result"
    }
   ],
   "source": [
    "train_data_rdd = sc.parallelize(zip(all_x, all_y)).map(lambda x : Sample.from_ndarray(x[0], float(x[1])))\n",
    "train_data_rdd.take(5)\n",
    "test_data_rdd = sc.parallelize(zip(test_x, test_y)).map(lambda x: Sample.from_ndarray(x[0], float(x[1])))\n",
    "test_data_rdd.take(5)"
   ]
  },
  {
   "cell_type": "markdown",
   "metadata": {},
   "source": [
    "## Model"
   ]
  },
  {
   "cell_type": "markdown",
   "metadata": {},
   "source": [
    "TODO: define model:\n",
    "- single linear layer with one input and one output"
   ]
  },
  {
   "cell_type": "code",
   "execution_count": 19,
   "metadata": {},
   "outputs": [
    {
     "name": "stdout",
     "output_type": "stream",
     "text": [
      "creating: createLinear\n"
     ]
    }
   ],
   "source": [
    "model = Linear(1, 1)"
   ]
  },
  {
   "cell_type": "markdown",
   "metadata": {},
   "source": [
    "## Optimizer\n",
    "TODO: create optimizer, specifying the following optimization parameters:\n",
    "- model\n",
    "- training data (tip: training_rdd=)\n",
    "- loss (MSE)\n",
    "- SGD with learning rate 0.2\n",
    "- maximum 15 epochs\n",
    "- batch size = 4"
   ]
  },
  {
   "cell_type": "code",
   "execution_count": 20,
   "metadata": {},
   "outputs": [
    {
     "name": "stdout",
     "output_type": "stream",
     "text": [
      "creating: createMSECriterion\n",
      "creating: createDefault\n",
      "creating: createSGD\n",
      "creating: createMaxEpoch\n",
      "creating: createDistriOptimizer\n"
     ]
    }
   ],
   "source": [
    "# Create an Optimizer\n",
    "optimizer = Optimizer(\n",
    "    model=model,\n",
    "    training_rdd=train_data_rdd,\n",
    "    criterion=MSECriterion(),\n",
    "    optim_method=SGD(learningrate=0.2),\n",
    "    end_trigger=MaxEpoch(15),\n",
    "    batch_size=4)"
   ]
  },
  {
   "cell_type": "markdown",
   "metadata": {},
   "source": [
    "TODO: run the optimizer"
   ]
  },
  {
   "cell_type": "code",
   "execution_count": 21,
   "metadata": {},
   "outputs": [],
   "source": [
    "trained_model = optimizer.optimize()"
   ]
  },
  {
   "cell_type": "markdown",
   "metadata": {},
   "source": [
    "## Check trained model on training data and test data"
   ]
  },
  {
   "cell_type": "markdown",
   "metadata": {},
   "source": [
    "TODO:\n",
    "- evaluate trained model on both the training data and the test data\n",
    "    - (tip: .predict(rdd))\n",
    "- plot predictions against original data and true original data (without noise)"
   ]
  },
  {
   "cell_type": "code",
   "execution_count": 22,
   "metadata": {},
   "outputs": [
    {
     "data": {
      "text/plain": [
       "[Sample: features: [JTensor: storage: [0.35335615], shape: [1], float], labels: [JTensor: storage: [7.7918134], shape: [1], float],\n",
       " Sample: features: [JTensor: storage: [0.18795305], shape: [1], float], labels: [JTensor: storage: [7.39569], shape: [1], float],\n",
       " Sample: features: [JTensor: storage: [0.41418633], shape: [1], float], labels: [JTensor: storage: [7.721541], shape: [1], float],\n",
       " Sample: features: [JTensor: storage: [0.61723524], shape: [1], float], labels: [JTensor: storage: [8.227202], shape: [1], float],\n",
       " Sample: features: [JTensor: storage: [0.9692975], shape: [1], float], labels: [JTensor: storage: [9.016278], shape: [1], float]]"
      ]
     },
     "execution_count": 22,
     "metadata": {},
     "output_type": "execute_result"
    }
   ],
   "source": [
    "train_data_rdd.take(5)"
   ]
  },
  {
   "cell_type": "code",
   "execution_count": 23,
   "metadata": {},
   "outputs": [],
   "source": [
    "# Print the first five predicted results of training data.\n",
    "predict_result = trained_model.predict(train_data_rdd)\n",
    "p = predict_result.collect()\n",
    "p = np.concatenate(p)\n",
    "p_test = trained_model.predict(test_data_rdd).collect()\n",
    "p_test = np.concatenate(p_test)"
   ]
  },
  {
   "cell_type": "code",
   "execution_count": 24,
   "metadata": {},
   "outputs": [
    {
     "data": {
      "text/plain": [
       "<matplotlib.collections.PathCollection at 0x7f871e34ffd0>"
      ]
     },
     "execution_count": 24,
     "metadata": {},
     "output_type": "execute_result"
    },
    {
     "data": {
      "image/png": "[encoded data removed]",
      "text/plain": [
       "<Figure size 1080x504 with 1 Axes>"
      ]
     },
     "metadata": {
      "needs_background": "light"
     },
     "output_type": "display_data"
    }
   ],
   "source": [
    "plt.scatter(all_x, true_y, 5, \"b\")\n",
    "plt.scatter(all_x, all_y, 5, \"g\")\n",
    "plt.scatter(all_x, p, 5, \"r\")\n",
    "plt.scatter(test_x, p_test, 5, \"y\")"
   ]
  },
  {
   "cell_type": "markdown",
   "metadata": {},
   "source": [
    "TODO: check parameters and compare against the coefficients chosen in data creation"
   ]
  },
  {
   "cell_type": "code",
   "execution_count": 25,
   "metadata": {},
   "outputs": [
    {
     "data": {
      "text/plain": [
       "{'Linearb68ccc8b': {'weight': array([[1.9721705]], dtype=float32),\n",
       "  'bias': array([7.0247154], dtype=float32),\n",
       "  'gradBias': array([0.], dtype=float32),\n",
       "  'gradWeight': array([[0.]], dtype=float32)}}"
      ]
     },
     "execution_count": 25,
     "metadata": {},
     "output_type": "execute_result"
    }
   ],
   "source": [
    "trained_model.parameters()"
   ]
  },
  {
   "cell_type": "code",
   "execution_count": null,
   "metadata": {},
   "outputs": [],
   "source": []
  },
  {
   "cell_type": "code",
   "execution_count": null,
   "metadata": {},
   "outputs": [],
   "source": []
  },
  {
   "cell_type": "code",
   "execution_count": null,
   "metadata": {},
   "outputs": [],
   "source": []
  }
 ],
 "metadata": {
  "kernelspec": {
   "display_name": "Python 3",
   "language": "python",
   "name": "python3"
  },
  "language_info": {
   "codemirror_mode": {
    "name": "ipython",
    "version": 3
   },
   "file_extension": ".py",
   "mimetype": "text/x-python",
   "name": "python",
   "nbconvert_exporter": "python",
   "pygments_lexer": "ipython3",
   "version": "3.6.8"
  }
 },
 "nbformat": 4,
 "nbformat_minor": 2
}
